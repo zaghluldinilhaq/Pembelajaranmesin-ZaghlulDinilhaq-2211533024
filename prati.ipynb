{
  "nbformat": 4,
  "nbformat_minor": 0,
  "metadata": {
    "colab": {
      "provenance": [],
      "authorship_tag": "ABX9TyNzwErkAspWdLKWNccWkhYY",
      "include_colab_link": true
    },
    "kernelspec": {
      "name": "python3",
      "display_name": "Python 3"
    },
    "language_info": {
      "name": "python"
    }
  },
  "cells": [
    {
      "cell_type": "markdown",
      "metadata": {
        "id": "view-in-github",
        "colab_type": "text"
      },
      "source": [
        "<a href=\"https://colab.research.google.com/github/zaghluldinilhaq/Pembelajaranmesin-ZaghlulDinilhaq-2211533024/blob/main/prati.ipynb\" target=\"_parent\"><img src=\"https://colab.research.google.com/assets/colab-badge.svg\" alt=\"Open In Colab\"/></a>"
      ]
    },
    {
      "cell_type": "code",
      "execution_count": null,
      "metadata": {
        "id": "f3FMT-by8tRD"
      },
      "outputs": [],
      "source": [
        "#untuk analisis\n",
        "import pandas as ps\n",
        "import numpy as np\n",
        "from sklearn import\n",
        "\n",
        "#untuk visuals\n",
        "import matplotlib.pyplot as plt\n",
        "import seaborn as sns; sns.set(font_scale=1.2)\n",
        "\n",
        "#tampilan chart\n"
      ]
    },
    {
      "cell_type": "code",
      "source": [],
      "metadata": {
        "id": "D1R5sjek_tI4"
      },
      "execution_count": null,
      "outputs": []
    }
  ]
}